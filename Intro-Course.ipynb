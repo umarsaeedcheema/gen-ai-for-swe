{
 "cells": [
  {
   "cell_type": "markdown",
   "id": "6f2b01ea",
   "metadata": {},
   "source": [
    "# Intro to Gen AI for SWE"
   ]
  },
  {
   "cell_type": "markdown",
   "id": "9f3bcfa0",
   "metadata": {},
   "source": [
    "# Machine Learning\n",
    "\n",
    "<div style=\"text-align: center;\">\n",
    "    <img src=\"assets/images/Traditional-vs-ML.png\" alt=\"Machine Learning\" style=\"height: 50%; width: 50%;\">\n",
    "</div>\n"
   ]
  },
  {
   "cell_type": "markdown",
   "id": "dd1259d2",
   "metadata": {},
   "source": [
    "## Machine Learning Paradigm \n",
    "* Make a guess\n",
    "* Measure how good the guess is (Compare it with the actual output)\n",
    "* Optimize the guess\n",
    "* Repeat\n",
    "\n",
    "## Types of Machine Learning\n",
    "* Supervised Learning\n",
    "    * Get the data \n",
    "    * Label the data \n",
    "    * Match the data with the label\n",
    "    * Machine learns from this \n",
    "    * Predicts the output for new data\n",
    "\n",
    "\n",
    "<div style=\"text-align: center;\">\n",
    "    <img src=\"assets/images/ML-Paradigm.png\" alt=\"Machine Learning Paradigms\" style=\"height: 50%; width: 50%;\">\n",
    "</div>\n",
    "\n",
    "\n",
    "\n",
    "Supervised Learning is used in LLMs"
   ]
  },
  {
   "cell_type": "markdown",
   "id": "72bc9bc5",
   "metadata": {},
   "source": [
    "## Transformers\n",
    "\n",
    "### Attention:\n",
    "\n",
    "### Encoder and Decoders\n"
   ]
  },
  {
   "cell_type": "markdown",
   "id": "fe1bbafe",
   "metadata": {},
   "source": [
    "## Transformers and Code\n",
    "\n",
    "* Generate documentation\n",
    "* Scan for bugs\n",
    "* Code completion\n",
    "* Manage dependencies\n",
    "* Deal with technical debt"
   ]
  },
  {
   "cell_type": "markdown",
   "id": "34ba9b96",
   "metadata": {},
   "source": []
  }
 ],
 "metadata": {
  "kernelspec": {
   "display_name": "Python 3 (ipykernel)",
   "language": "python",
   "name": "python3"
  },
  "language_info": {
   "codemirror_mode": {
    "name": "ipython",
    "version": 3
   },
   "file_extension": ".py",
   "mimetype": "text/x-python",
   "name": "python",
   "nbconvert_exporter": "python",
   "pygments_lexer": "ipython3",
   "version": "3.12.4"
  }
 },
 "nbformat": 4,
 "nbformat_minor": 5
}
